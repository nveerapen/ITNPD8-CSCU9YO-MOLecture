{
 "cells": [
  {
   "cell_type": "markdown",
   "metadata": {
    "slideshow": {
     "slide_type": "slide"
    }
   },
   "source": [
    "ITNPD8/CSCU9YO\n",
    "\n",
    "Multiobjective Optimisation\n",
    "============================\n",
    "An Overview\n",
    "---------------\n",
    "\n",
    "Nadarajen Veerapen (nve@cs.stir.ac.uk)\n",
    "\n",
    "University of Stirling"
   ]
  },
  {
   "cell_type": "markdown",
   "metadata": {
    "slideshow": {
     "slide_type": "slide"
    }
   },
   "source": [
    "<img src=\"word_cloud.png\">"
   ]
  },
  {
   "cell_type": "markdown",
   "metadata": {
    "slideshow": {
     "slide_type": "slide"
    }
   },
   "source": [
    "Why?\n",
    "=====\n",
    "\n",
    "- Classic optimisation: 1 objective <br/>\n",
    "  Example: Minimise cost"
   ]
  },
  {
   "cell_type": "markdown",
   "metadata": {
    "slideshow": {
     "slide_type": "fragment"
    }
   },
   "source": [
    "- Reality is often more complex <br/>\n",
    "  Example: Location and dispatching decision for emergency vehicles <br/>\n",
    "  - Minimise average response time\n",
    "  - Minimise cost\n",
    "  - Minimise unfairness "
   ]
  },
  {
   "cell_type": "markdown",
   "metadata": {
    "slideshow": {
     "slide_type": "fragment"
    }
   },
   "source": [
    "Objectives are usually in conflict with each other. \n",
    "  \n",
    "We need to find a compromise, a trade-off."
   ]
  },
  {
   "cell_type": "markdown",
   "metadata": {
    "slideshow": {
     "slide_type": "slide"
    }
   },
   "source": [
    "Panorama\n",
    "========\n",
    "\n",
    "- Operations Research\n",
    "    - ...\n",
    "    - Multi Criteria Decision Analysis/Making (MCDA/MCDM)\n",
    "        - Preference Elicitation\n",
    "        - Solving Methods\n",
    "            - Mathematical Programming\n",
    "            - Interactive Programming\n",
    "            - Goal Programming\n",
    "            - Metaheuristics\n",
    "            - ...\n",
    "        - Visualisation\n",
    "        - ..."
   ]
  },
  {
   "cell_type": "markdown",
   "metadata": {
    "slideshow": {
     "slide_type": "slide"
    }
   },
   "source": [
    "General Formulation\n",
    "===================\n",
    "\n",
    "$\\text{Minimise } \\overrightarrow{z} = \\overrightarrow{f}(x) = (f_1(x), f_2(x), f_3(x), \\ldots, f_k(x))$\n",
    "\n",
    "$x \\in X$\n",
    "\n",
    "$\\text{subject to constraints}$"
   ]
  },
  {
   "cell_type": "markdown",
   "metadata": {
    "slideshow": {
     "slide_type": "fragment"
    }
   },
   "source": [
    "This generalises the single objective formulation to the minimisation of a vector in the objective space.\n",
    "\n",
    "How do we define the relationship between vectors? How is one vector than another?"
   ]
  },
  {
   "cell_type": "markdown",
   "metadata": {
    "slideshow": {
     "slide_type": "slide"
    }
   },
   "source": [
    "Decision Space and Objective Space\n",
    "==================================\n"
   ]
  },
  {
   "cell_type": "markdown",
   "metadata": {},
   "source": [
    "<img src=\"decision_objective_spaces.png\" height=\"300\">\n",
    "- $X$ is the decision space, the space containing the solutions\n",
    "- $Z$ is the objective space, the space containing the evaluation of the solutions"
   ]
  },
  {
   "cell_type": "markdown",
   "metadata": {
    "slideshow": {
     "slide_type": "slide"
    }
   },
   "source": [
    "Dominance Relations\n",
    "===================\n",
    "How is one solution evaluation better than another?"
   ]
  },
  {
   "cell_type": "markdown",
   "metadata": {},
   "source": [
    "\n",
    "<img src=\"dominance.png\" height=\"300\">\n",
    "Here we are minimising in both dimensions."
   ]
  },
  {
   "cell_type": "markdown",
   "metadata": {
    "slideshow": {
     "slide_type": "slide"
    }
   },
   "source": [
    "Dominance Relations (cont.)\n",
    "========================\n",
    "\n",
    "</br>\n",
    "*a* **dominates** *b*, $a \\prec b$, if *a* is strictly better than *b* in at least one objective and worse in none. \n",
    "\n",
    "*a* **weakly dominates** *b*, $a \\preceq b$, if *a* dominates *b* or is equal to *b*. \n",
    "\n",
    "*a* **strongly dominates** *b*, $a \\prec\\prec b$, if *a* is strictly better than *b* in all objectives. \n",
    "\n",
    "*a* and *b* are **incomparable**, $a || b$, if neither *a* nor *b* dominate the other and they are not equal.\n"
   ]
  },
  {
   "cell_type": "markdown",
   "metadata": {
    "slideshow": {
     "slide_type": "fragment"
    }
   },
   "source": [
    "$a \\prec b$ is generally used when referring to minimisation and $a \\succ b$ when referring to maximisation."
   ]
  },
  {
   "cell_type": "markdown",
   "metadata": {
    "slideshow": {
     "slide_type": "slide"
    }
   },
   "source": [
    "Pareto Front\n",
    "=================\n",
    "\n",
    "The **Pareto Front** $ Z^*$ is the set of non-dominated points in $Z$.\n",
    "\n",
    "$Z^* = \\{z | z \\in Z, \\nexists z' \\in Z, z' \\prec z \\}$"
   ]
  },
  {
   "cell_type": "markdown",
   "metadata": {
    "slideshow": {
     "slide_type": "-"
    }
   },
   "source": [
    "<img src=\"pareto_front.png\" height=\"300\">"
   ]
  },
  {
   "cell_type": "markdown",
   "metadata": {
    "slideshow": {
     "slide_type": "subslide"
    }
   },
   "source": [
    "<img src=\"pareto_front_dominance.png\" height=\"300\">"
   ]
  },
  {
   "cell_type": "markdown",
   "metadata": {
    "slideshow": {
     "slide_type": "subslide"
    }
   },
   "source": [
    "Named after Vilfredo Pareto (1848–1923), an Italian economist who used the concept in his work on economic efficiency."
   ]
  },
  {
   "cell_type": "markdown",
   "metadata": {
    "slideshow": {
     "slide_type": "slide"
    }
   },
   "source": [
    "Pareto Front (cont.)\n",
    "====================\n",
    "\n",
    "The **Pareto Front**, $ Z^*$, is the set of non-dominated points in $Z$.\n",
    "\n",
    "$Z^* = \\{z | z \\in Z, \\nexists z' \\in Z, z' \\prec z \\}$\n",
    "\n",
    "The **Pareto Optimal Set**, $X^*$, is the set of solutions that corresponds to the non-dominated points.\n",
    "\n",
    "$X^* = \\{x | x \\in X, z = f(x) \\in Z^* \\}$\n",
    "\n",
    "A **Pareto Front Approximation**, $Z^*_{approx}$, is a set of mutually non-dominated points in $Z' \\subset Z$.\n",
    "\n",
    "$Z^*_{approx} = \\{z | z \\in Z' \\subset Z, \\nexists z' \\in Z', z' \\prec z \\}$\n",
    "\n"
   ]
  },
  {
   "cell_type": "markdown",
   "metadata": {
    "slideshow": {
     "slide_type": "slide"
    }
   },
   "source": [
    "Pareto Front (cont.)\n",
    "===========\n",
    "\n",
    "<img src=\"front_shapes.png\" height=\"250\">\n",
    "\n"
   ]
  },
  {
   "cell_type": "markdown",
   "metadata": {
    "slideshow": {
     "slide_type": "slide"
    }
   },
   "source": [
    "Comparing Approximate Pareto Fronts\n",
    "===================================\n",
    "\n",
    "### Unary Indicators\n",
    "\n",
    "Measure some characteristic of each front and compare the result of each measurement. \n",
    "\n",
    "For example, with two fronts $A$ and $B$, compute some indicator $I$, so that we have $I(A)$ and $I(B)$.\n",
    "\n",
    "While we may have $I(A)$ is better than $I(B)$, this **does not mean** $A$ is better than $B$!\n",
    "\n",
    "Nevertheless can be useful, especially when several indicators are used, to compare fronts.\n"
   ]
  },
  {
   "cell_type": "markdown",
   "metadata": {
    "slideshow": {
     "slide_type": "fragment"
    }
   },
   "source": [
    "### Binary Indicators\n",
    "\n",
    "Directly compare two fronts. For example, with two fronts $A$ and $B$, we may have an indicator $I$ that computes $I(A,B)$. Dominance relations between the two sets of points are measured.\n",
    "\n",
    "Properly designed binary indicators can actually show that $A$ is better than $B$.\n",
    "\n",
    "Drawback: When comparing several fronts, all the pairwise comparisons need to be computed.\n",
    "\n"
   ]
  },
  {
   "cell_type": "markdown",
   "metadata": {
    "slideshow": {
     "slide_type": "subslide"
    }
   },
   "source": [
    "Some references:\n",
    "- Okabe, Tatsuya, Yaochu Jin, and Bernhard Sendhoff. “A Critical Survey of Performance Indices for Multi-Objective Optimisation.” In The 2003 Congress on Evolutionary Computation, 2003. CEC ’03., 878–85. Canberra, Australia, 2003. doi:10.1109/CEC.2003.1299759.\n",
    "- Zitzler, E., L. Thiele, M. Laumanns, C.M. Fonseca, and V.G. da Fonseca. “Performance Assessment of Multiobjective Optimizers: An Analysis and Review.” IEEE Transactions on Evolutionary Computation 7, no. 2 (April 2003): 117–32. doi:10.1109/TEVC.2003.810758.\n",
    "\n"
   ]
  },
  {
   "cell_type": "markdown",
   "metadata": {
    "slideshow": {
     "slide_type": "slide"
    }
   },
   "source": [
    "Characteristics for Evaluating Fronts\n",
    "========\n",
    "\n",
    "\n"
   ]
  },
  {
   "cell_type": "markdown",
   "metadata": {
    "slideshow": {
     "slide_type": "fragment"
    }
   },
   "source": [
    "### 0. Number of Solutions (Cardinality)\n",
    "\n",
    "Seems trivial but important nonetheless. "
   ]
  },
  {
   "cell_type": "markdown",
   "metadata": {
    "slideshow": {
     "slide_type": "fragment"
    }
   },
   "source": [
    "### 1. Spread\n",
    "\n",
    "The range of the approximate front should be as wide as possible for each objective.\n",
    "\n",
    "<img src=\"spread.png\" height=\"250\">"
   ]
  },
  {
   "cell_type": "markdown",
   "metadata": {
    "slideshow": {
     "slide_type": "slide"
    }
   },
   "source": [
    "Characteristics for Evaluating Fronts (cont.)\n",
    "========\n",
    "\n",
    "### 2. Spacing\n",
    "\n",
    "The points should be uniformly spaced out over the approximate front.\n",
    "\n",
    "<img src=\"spacing.png\" height=\"250\">"
   ]
  },
  {
   "cell_type": "markdown",
   "metadata": {
    "slideshow": {
     "slide_type": "slide"
    }
   },
   "source": [
    "Characteristics for Evaluating Fronts (cont.)\n",
    "========\n",
    "\n",
    "### 3. Distance from Reference Front\n",
    "\n",
    "The approximate front should be as close as possible to the reference front. The reference front can be the exact front if known. Otherwise it is a combination of the non-dominated points of several approximate fronts.\n",
    "\n",
    "<img src=\"distance_ref.png\" height=\"250\">"
   ]
  },
  {
   "cell_type": "markdown",
   "metadata": {
    "slideshow": {
     "slide_type": "slide"
    }
   },
   "source": [
    "Hypervolume\n",
    "===========\n",
    "\n",
    "The hypervolume of a set of non-dominated points is the\n",
    "- area (in 2 dimensions)\n",
    "- volume (in 3 dimensions)\n",
    "- hypervolume (in $n>3$ dimensions)\n",
    "\n",
    "of the objective space dominated by the set and bounded by a reference point (often the nadir).\n",
    "<img src=\"hypervolume.png\" height=\"250\">"
   ]
  },
  {
   "cell_type": "markdown",
   "metadata": {
    "slideshow": {
     "slide_type": "slide"
    }
   },
   "source": [
    "Solving\n",
    "=======\n",
    "\n",
    "### *A Priori* Preference Articulation\n",
    "\n",
    "Knowledge of exactly how important the different objectives are to the decision maker. "
   ]
  },
  {
   "cell_type": "markdown",
   "metadata": {
    "slideshow": {
     "slide_type": "fragment"
    }
   },
   "source": [
    "**Lexicographic Approach**: there is a strict order of preference between objectives. $f_1$ is more important than $f_2$ which in turn is more important than $f_3$, etc. Solution: solve for the most important objective and only solve for the following objectives to break ties.\n",
    "\n"
   ]
  },
  {
   "cell_type": "markdown",
   "metadata": {
    "slideshow": {
     "slide_type": "fragment"
    }
   },
   "source": [
    "**Scalarisation**: transform the different objectives into one objective. A common example is the **weighted sum**.\n",
    "\n",
    "$f_w(x) = \\sum_{i=1}^{k} w_i f_i(x)$"
   ]
  },
  {
   "cell_type": "markdown",
   "metadata": {
    "slideshow": {
     "slide_type": "slide"
    }
   },
   "source": [
    "Weighted Sum\n",
    "=============\n",
    "\n",
    "Some considerations:\n",
    "- A weighted sum can only find points on the convex hull of the front. These points are called supported points.\n",
    "- If the ranges of the objectives are considerably different, they usually need to be normalised.\n",
    "- The objectives may be measured in different units. For example, does it make sense to sum cost and time?\n",
    "\n"
   ]
  },
  {
   "cell_type": "markdown",
   "metadata": {
    "slideshow": {
     "slide_type": "subslide"
    }
   },
   "source": [
    "<img src=\"weighted_sum.png\" height=\"250\">"
   ]
  },
  {
   "cell_type": "markdown",
   "metadata": {
    "slideshow": {
     "slide_type": "subslide"
    }
   },
   "source": [
    "<img src=\"convex_hull.png\" height=\"250\">"
   ]
  },
  {
   "cell_type": "markdown",
   "metadata": {
    "slideshow": {
     "slide_type": "slide"
    }
   },
   "source": [
    "Solving\n",
    "========\n",
    "### *A Posteriori* Preference Articulation\n",
    "\n",
    "There is no knowledge of the decision maker's preferences. Therefore the Pareto Front, or its approximation, is generated. The decision maker may make a decision based on the different trade-offs."
   ]
  },
  {
   "cell_type": "markdown",
   "metadata": {
    "slideshow": {
     "slide_type": "slide"
    }
   },
   "source": [
    "Approximating the Pareto Front\n",
    "==============================\n",
    "\n",
    "Find a good approximation of the Pareto Front in case where the true Pareto Front cannot be found or is too costly to compute.\n",
    "\n",
    "Types of algorithms:\n",
    "- Multiple scalarisations\n",
    "- Genetic algorithms\n",
    "- Local search\n",
    "- Combinations of these\n",
    "\n"
   ]
  },
  {
   "cell_type": "markdown",
   "metadata": {
    "slideshow": {
     "slide_type": "slide"
    }
   },
   "source": [
    "Multiple Scalarisations\n",
    "=======================\n",
    "\n",
    "- To leverage a single objective algorithm\n",
    "- Usually when the Pareto Front is convex\n",
    "- To find initial solutions for some other multiobjective algorithm\n",
    "\n",
    "<img src=\"scalarizations.png\" height=\"250\">\n",
    "        \n",
    "\n",
    "\n",
    "\n"
   ]
  },
  {
   "cell_type": "markdown",
   "metadata": {
    "slideshow": {
     "slide_type": "subslide"
    }
   },
   "source": [
    "<script src=\"https://google-code-prettify.googlecode.com/svn/loader/run_prettify.js\"></script>\n",
    "<code class=\"prettyprint\">\n",
    "Input: A set of weights, W\n",
    "Output: A set of non-dominated solutions\n",
    "\n",
    "// initialise the set of non-dominated solution\n",
    "S = []\n",
    "for each w in W:\n",
    "    // call a single objective solver\n",
    "    s = solveScalarisation(w) \n",
    "    S = filter(S, s)\n",
    "return S\n",
    "</code>"
   ]
  },
  {
   "cell_type": "markdown",
   "metadata": {
    "slideshow": {
     "slide_type": "slide"
    }
   },
   "source": [
    "NSGA-II\n",
    "=======\n",
    "\n",
    "**Non-dominated Sorting Genetic Algorithm**. The fitness of the solutions is based on their depth or rank. The crowding distance is used to break ties in tournament selection.\n",
    "\n",
    "As in single objective optimisation, GAs/EAs are very general and can be applied to most problems.\n",
    "\n",
    "<img src=\"depth_crowd.png\" height=\"250\">\n"
   ]
  },
  {
   "cell_type": "markdown",
   "metadata": {
    "slideshow": {
     "slide_type": "subslide"
    }
   },
   "source": [
    "<script src=\"https://google-code-prettify.googlecode.com/svn/loader/run_prettify.js\"></script>\n",
    "<code class=\"prettyprint\">\n",
    "Input: Number of solutions, n\n",
    "Output: A set of non-dominated solutions\n",
    "\n",
    "P = random population of size n\n",
    "calculate depth of each solution in P\n",
    "calculate the crowding distance of each solution in P\n",
    "while stopping criterion not met:\n",
    "    P = generateNewPop(P)\n",
    "    evaluate(P)\n",
    "    calculate depth of each solution in P\n",
    "    calculate the crowding distance of each solution in P\n",
    "    sort P by depth, then crowding distance\n",
    "    P = Resize(P,n)\n",
    "return P\n",
    "</code>"
   ]
  },
  {
   "cell_type": "markdown",
   "metadata": {
    "slideshow": {
     "slide_type": "slide"
    }
   },
   "source": [
    "Pareto Local Search\n",
    "===================\n",
    "\n",
    "Explore the search space one solution at a time. Starting with one or more solutions, explore their neighbourhoods and keep the points that are not weakly dominated. Repeat until all reachable solutions have been examined.\n",
    "\n",
    "- Dependent on good initial solutions\n",
    "- Disjoint fronts may be difficult\n",
    "\n",
    "<img src=\"pls.png\" height=\"250\">\n",
    "\n",
    "\n",
    "\n"
   ]
  },
  {
   "cell_type": "markdown",
   "metadata": {
    "slideshow": {
     "slide_type": "subslide"
    }
   },
   "source": [
    "<script src=\"https://google-code-prettify.googlecode.com/svn/loader/run_prettify.js\"></script>\n",
    "<code class=\"prettyprint\">\n",
    "Input: An initial set of solutions, P0\n",
    "Output: A set of non-dominated solutions\n",
    "\n",
    "S = P0 // initialise S and a running population P\n",
    "P = P0\n",
    "while P != []:\n",
    "    // generate all neighbours q of each p in P\n",
    "    for all p in P:\n",
    "        deleted = false\n",
    "        for all q in neighbourhood(p):\n",
    "            if !weaklyDominates(z(p), z(q)):\n",
    "                S = filter(S, q)\n",
    "                if q in S:\n",
    "                    P = filter(P, q)\n",
    "            if dominates(z(q), z(p)):\n",
    "                deleted = true\n",
    "    // remove p from P if p has not already been removed\n",
    "    if !deleted:\n",
    "        P.remove(p)\n",
    "return S\n",
    "</code>"
   ]
  },
  {
   "cell_type": "markdown",
   "metadata": {
    "slideshow": {
     "slide_type": "slide"
    }
   },
   "source": [
    "Archiving\n",
    "=========\n",
    "\n",
    "Usually used to keep the best solutions (non-dominated solutions). An archive is useful when:\n",
    "\n",
    "- The population of an EA needs to be kept relatively small but we may want to keep more non-dominated solutions than the population size.\n",
    "- The number of non-dominated solutions is greater than needed (or even infinite) and we want to limit the size of the approximated Pareto front.\n",
    "\n",
    "When an archive's size is bounded, some mechanisms maybe required to determine which new solutions to accept when the archive is full. For instance, by relying on some indicator."
   ]
  },
  {
   "cell_type": "markdown",
   "metadata": {
    "slideshow": {
     "slide_type": "slide"
    }
   },
   "source": [
    "Visualising Many Objectives\n",
    "============================\n",
    "\n",
    "- Two objectives are easy enough\n",
    "- With three objectives, there is usually the slight problem of viewing a 3D space on a 2D plane (paper, screen). Can be viewed with an interactive plot on screen."
   ]
  },
  {
   "cell_type": "markdown",
   "metadata": {
    "slideshow": {
     "slide_type": "fragment"
    }
   },
   "source": [
    "What about four or more objectives?"
   ]
  },
  {
   "cell_type": "markdown",
   "metadata": {
    "slideshow": {
     "slide_type": "slide"
    }
   },
   "source": [
    "Parallel Coordinates\n",
    "====================\n",
    "\n",
    "<img src=\"parallel_coords.png\" height=\"300\">"
   ]
  },
  {
   "cell_type": "markdown",
   "metadata": {
    "slideshow": {
     "slide_type": "subslide"
    }
   },
   "source": [
    "<iframe width=\"640\" height=\"390\" src=\"https://www.youtube.com/embed/tk9g_IzJrU0\" frameborder=\"0\" allowfullscreen></iframe>"
   ]
  },
  {
   "cell_type": "markdown",
   "metadata": {
    "slideshow": {
     "slide_type": "slide"
    }
   },
   "source": [
    "Radar/Spider Charts\n",
    "==================\n",
    "<img src=\"radar.png\" height=\"300\">"
   ]
  },
  {
   "cell_type": "markdown",
   "metadata": {
    "slideshow": {
     "slide_type": "slide"
    }
   },
   "source": [
    "Summary\n",
    "========\n",
    "\n",
    "- Multiobjective approach is closer to real-world problem\n",
    "- Pareto dominance\n",
    "- Comparing fronts is not trivial\n",
    "- A priori / a posteriori preference articulation\n",
    "- Heuristic multiobjective algorithms and archiving\n",
    "- Visualisation\n"
   ]
  }
 ],
 "metadata": {
  "celltoolbar": "Slideshow",
  "kernelspec": {
   "display_name": "Python 2",
   "language": "python",
   "name": "python2"
  },
  "language_info": {
   "codemirror_mode": {
    "name": "ipython",
    "version": 2
   },
   "file_extension": ".py",
   "mimetype": "text/x-python",
   "name": "python",
   "nbconvert_exporter": "python",
   "pygments_lexer": "ipython2",
   "version": "2.7.6"
  }
 },
 "nbformat": 4,
 "nbformat_minor": 0
}
